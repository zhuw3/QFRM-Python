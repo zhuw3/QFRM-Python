{
 "cells": [
  {
   "cell_type": "markdown",
   "metadata": {},
   "source": [
    "### 1.1\n",
    "What is the value of $\\sqrt{2}^{\\sqrt{2}^{{\\sqrt{2}^{...}}}}$?"
   ]
  },
  {
   "cell_type": "code",
   "execution_count": 17,
   "metadata": {
    "collapsed": false
   },
   "outputs": [
    {
     "name": "stdout",
     "output_type": "stream",
     "text": [
      "1.73205080757\n"
     ]
    }
   ],
   "source": [
    "import math\n",
    "exponent = 1\n",
    "for n in range(0,1):\n",
    "    exponent = math.sqrt(3)**exponent\n",
    "print exponent"
   ]
  },
  {
   "cell_type": "code",
   "execution_count": 26,
   "metadata": {
    "collapsed": false
   },
   "outputs": [
    {
     "name": "stdout",
     "output_type": "stream",
     "text": [
      "Object `flip` not found.\n"
     ]
    }
   ],
   "source": [
    "### 3.1\n",
    "You have a bag with two coins. One will come up heads 40% of the time, and the other will come up heads 60%. You pick a coin randomly, flip it and get a head. What is the probability it will be heads on the next flip?"
   ]
  },
  {
   "cell_type": "markdown",
   "metadata": {},
   "source": [
    "You have a bag with two coins. One will come up heads 40% of the time, and the other will come up heads 60%. You pick a coin randomly, flip it and get a head. What is the probability it will be heads on the next flip"
   ]
  },
  {
   "cell_type": "code",
   "execution_count": null,
   "metadata": {
    "collapsed": false
   },
   "outputs": [],
   "source": [
    "import random as rnd\n",
    "heads = 0\n",
    "max_trial = 1000\n",
    "first_head = 0\n",
    "two_heads = 0\n",
    "for trialCtr in range(0,max_trial):\n",
    "    if rnd.random()<0.5:\n",
    "        # head prob\n",
    "        coin = 0.6\n",
    "    else:\n",
    "        # head prob\n",
    "        coin = 0.4\n",
    "    first_flip = math.floor(rnd.random()/coin)\n",
    "    if first_flip == 0:\n",
    "        # if the first_flip is head\n",
    "        first_head += 1.0\n",
    "    second_flip = math.floor(rnd.random()/coin)\n",
    "    if first_flip + second_flip == 0:\n",
    "        # if both flips are head\n",
    "        two_heads +=1.0\n",
    "print two_heads/first_head\n",
    "        \n",
    "    \n",
    "    "
   ]
  },
  {
   "cell_type": "markdown",
   "metadata": {},
   "source": [
    "### 3.1\n",
    "In front of you is a jar of 1000 coins. One of the coins has two heads, and the rest are fair coins. You choose a coin at random, and flip it ten times, getting all heads. What is the probability it is one of the fair coins?"
   ]
  },
  {
   "cell_type": "code",
   "execution_count": 30,
   "metadata": {
    "collapsed": false
   },
   "outputs": [
    {
     "data": {
      "text/plain": [
       "[0, 1, 2, 3, 4, 5, 6, 7, 8, 9]"
      ]
     },
     "execution_count": 30,
     "metadata": {},
     "output_type": "execute_result"
    }
   ],
   "source": []
  },
  {
   "cell_type": "markdown",
   "metadata": {},
   "source": [
    "### 3.5\n",
    "Starting at one vertex of a cube, and moving randomly from vertex to adjacent vertices, what is the expected number of moves until you reach the  vertex opposite from your starting point?"
   ]
  },
  {
   "cell_type": "code",
   "execution_count": 61,
   "metadata": {
    "collapsed": false
   },
   "outputs": [
    {
     "name": "stdout",
     "output_type": "stream",
     "text": [
      "10.0217\n"
     ]
    }
   ],
   "source": [
    "import random as rnd\n",
    "vertices = [[0,0],[0,1],[0,2],[0,3],[1,0],[1,1],[1,2],[1,3]]\n",
    "goal_x = 1\n",
    "goal_y = 2\n",
    "trails = 100000\n",
    "total_steps = 0\n",
    "def steps_to_goal():\n",
    "    steps = 0\n",
    "    position_x = 0\n",
    "    position_y = 0\n",
    "    while True:\n",
    "        prob = rnd.random()*3\n",
    "        if prob <=1:\n",
    "            position_y += 1\n",
    "        elif prob <=2:\n",
    "            position_y -=1\n",
    "        elif prob <=3:\n",
    "            position_x +=1\n",
    "        position_y = position_y % 4\n",
    "        position_x = position_x % 2\n",
    "        steps += 1\n",
    "        if position_x == goal_x and position_y == goal_y:\n",
    "            return steps\n",
    "for i in range(0,trails):\n",
    "    total_steps += steps_to_goal()\n",
    "average_steps = float(total_steps)/trails\n",
    "print average_steps\n",
    "        "
   ]
  },
  {
   "cell_type": "markdown",
   "metadata": {},
   "source": [
    "### 3.8\n",
    "You have a spinner that generates random numbers that are uniform between 0 and 1. You sum the spins until the sum is greater than one. What is the expected number of spins?"
   ]
  },
  {
   "cell_type": "code",
   "execution_count": 68,
   "metadata": {
    "collapsed": false
   },
   "outputs": [
    {
     "name": "stdout",
     "output_type": "stream",
     "text": [
      "2.716843\n"
     ]
    }
   ],
   "source": [
    "import random as rnd\n",
    "trails = 1000000\n",
    "total_spins = 0\n",
    "\n",
    "def num_of_spins():\n",
    "    spins = 0\n",
    "    sums = 0\n",
    "    while sums <= 1:\n",
    "        sums += rnd.random()\n",
    "        spins +=1\n",
    "    return spins\n",
    "\n",
    "for i in range(0,trails):\n",
    "    total_spins +=num_of_spins()\n",
    "print float(total_spins)/trails"
   ]
  },
  {
   "cell_type": "markdown",
   "metadata": {},
   "source": [
    "### 4.4\n",
    "You have a basket of $n$ assets. The asset returns are multivariate normal with zero mean. Correlation between any pair of assets is 1/2. What is the probability that $k$ of the assets will have positive return?"
   ]
  },
  {
   "cell_type": "code",
   "execution_count": null,
   "metadata": {
    "collapsed": false
   },
   "outputs": [],
   "source": []
  },
  {
   "cell_type": "markdown",
   "metadata": {},
   "source": [
    "### 3.10\n",
    "A stick is broken randomly into 3 pieces. What is the probability of the pieces being able to form a triangle?"
   ]
  },
  {
   "cell_type": "code",
   "execution_count": null,
   "metadata": {
    "collapsed": false
   },
   "outputs": [],
   "source": []
  },
  {
   "cell_type": "markdown",
   "metadata": {},
   "source": [
    "### 3.11\n",
    "A stick is broken randomly into two pieces. The larger piece is then broken randomly into two pieces. What is the probability of the pieces being able to form a triangle?"
   ]
  },
  {
   "cell_type": "code",
   "execution_count": null,
   "metadata": {
    "collapsed": false
   },
   "outputs": [],
   "source": []
  },
  {
   "cell_type": "markdown",
   "metadata": {},
   "source": [
    "### 5.10\n",
    "Suppose there are 36 students in the QFRM program, each assigned a unique integer from 1 to 36. Thirty-six quarters are laid out on a table in a row, heads up. Each student goes to the table, and if they are assigned the number $n$, they turn over the $n$th coin, the $2n$th coin, and so on. So, for example, the student who is assigned 15 will turn over the 15th and 30th coins. When everyone is done, how many tails are showing?"
   ]
  },
  {
   "cell_type": "code",
   "execution_count": null,
   "metadata": {
    "collapsed": false
   },
   "outputs": [],
   "source": []
  }
 ],
 "metadata": {
  "anaconda-cloud": {},
  "kernelspec": {
   "display_name": "Python [Root]",
   "language": "python",
   "name": "Python [Root]"
  },
  "language_info": {
   "codemirror_mode": {
    "name": "ipython",
    "version": 2
   },
   "file_extension": ".py",
   "mimetype": "text/x-python",
   "name": "python",
   "nbconvert_exporter": "python",
   "pygments_lexer": "ipython2",
   "version": "2.7.12"
  }
 },
 "nbformat": 4,
 "nbformat_minor": 0
}
