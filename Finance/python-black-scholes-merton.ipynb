{
 "cells": [
  {
   "cell_type": "markdown",
   "metadata": {},
   "source": [
    "# Black-Scholes-Merton option modeling\n",
    "\n",
    "This notebook showcases the expressive power of vectorized code, plotting, and interactivity via widgets. We apply these techniques to Monte Carlo-based and closed form European call option pricing. "
   ]
  },
  {
   "cell_type": "markdown",
   "metadata": {},
   "source": [
    "##  market model\n",
    "\n",
    "We assume that the price of a stock follows the geometric Brownian motion process described by Black-Scholes-Merton. The stock has a starting price $S_0$. The risk-free interest rate $r$ represent the time value of money. Stock volatility $\\sigma$ describes how quickly the stock price moves. The call option is an option to buy at a strike price $K$ expiring at time $T$. The price at time $T$ is given by $S=S_0 e^{(r-\\frac{1}{2}\\sigma^2)T + \\sigma \\sqrt{T} Z}$, where $Z$ is a random variable that has a standard normal distribution (mean zero, variance one).\n",
    "\n",
    "For our example, let's assume the stock price is currently 100 USD, and we have the option to buy the stock at 105 USD in 3 months. The annual volatility of the stock is 40%, and the risk-free rate is 3%.\n",
    "\n",
    "Note the use of NumPy's [random.normal](http://docs.scipy.org/doc/numpy-1.10.1/reference/generated/numpy.random.normal.html) function. Also, note that we alias <code>numpy</code> to <code>np</code>. You can choose your own aliases, but there are [Python library alias conventions](https://www.quantifiedcode.com/knowledge-base/readability/Use%20common%20abbreviations%20for%20libraries/7jRPIvMK) that you can follow to make your code more readable for others. "
   ]
  },
  {
   "cell_type": "code",
   "execution_count": 59,
   "metadata": {
    "collapsed": false
   },
   "outputs": [
    {
     "name": "stdout",
     "output_type": "stream",
     "text": [
      "87.3143887045\n"
     ]
    }
   ],
   "source": [
    "import math\n",
    "import numpy as np\n",
    "\n",
    "def bsm(s_0, r, sigma, t, z):\n",
    "    return s_0*np.exp((r-1.0/2*sigma**2)*t+sigma*z*t**(1.0/2))\n",
    "\n",
    "print bsm(100, 0.03, 0.4, 3.0/12, np.random.standard_normal())"
   ]
  },
  {
   "cell_type": "markdown",
   "metadata": {},
   "source": [
    "## vector-based market model\n",
    "\n",
    "The <code>bsm</code> function above can generate a single observation from the distribution of prices at time $T$. Since we are using a Monte Carlo appproach, however, we will want $n$ simulations. In a language like Java or C++, a typical approach might be to call <code>bsm</code> $N$ times. But NumPy provides support for vectorizing calculations, making code faster and more concise. We can make a small modification to vectorize our <code>bsm</code> function, by replacing <code>math.exp</code> with <code>numpy.exp</code>."
   ]
  },
  {
   "cell_type": "code",
   "execution_count": 60,
   "metadata": {
    "collapsed": false
   },
   "outputs": [
    {
     "name": "stdout",
     "output_type": "stream",
     "text": [
      "[  88.54434749   99.9990661   110.27416979   87.5383004   106.07002783\n",
      "  107.39148637  103.70546595   85.83864791   92.49986786   99.02630091]\n"
     ]
    }
   ],
   "source": [
    "def bsm(s_0, r, sigma, t, z):\n",
    "    return s_0*np.exp((r-1.0/2*sigma**2)*t+sigma*z*t**(1.0/2))\n",
    "\n",
    "n = 10\n",
    "print bsm(100, 0.03, 0.4, 3.0/12, np.random.standard_normal(n))"
   ]
  },
  {
   "cell_type": "markdown",
   "metadata": {},
   "source": [
    "## histogram of price distribution\n",
    "\n",
    "We have a collection of random prices. It would be helpful to see what the distribution looks like. For that, we use [matplotlib](http://matplotlib.org)."
   ]
  },
  {
   "cell_type": "code",
   "execution_count": 61,
   "metadata": {
    "collapsed": false
   },
   "outputs": [
    {
     "data": {
      "text/plain": [
       "<matplotlib.text.Text at 0x11674b490>"
      ]
     },
     "execution_count": 61,
     "metadata": {},
     "output_type": "execute_result"
    },
    {
     "data": {
      "image/png": "[encoded data removed]",
      "text/plain": [
       "<matplotlib.figure.Figure at 0x113d89f90>"
      ]
     },
     "metadata": {},
     "output_type": "display_data"
    }
   ],
   "source": [
    " #needed for plot to appear in Jupyter\n",
    "%matplotlib inline \n",
    "import matplotlib.pyplot as plt\n",
    "\n",
    "n = 100000\n",
    "prices = bsm(100,0.03,0.4,3.0/12,np.random.standard_normal(n))\n",
    "plt.figure(figsize=(7,4))\n",
    "plt.hist(prices,label=['prices'],bins = 100, color = 'blue')\n",
    "plt.grid(True)\n",
    "plt.xlabel('price')\n",
    "plt.ylabel('frequency')\n",
    "plt.title('Histogram of simulated BSM prices')"
   ]
  },
  {
   "cell_type": "markdown",
   "metadata": {},
   "source": [
    "## making your plot more interactive\n",
    "\n",
    "You can interact with Jupyter by entering values, and rerunning a cell. In the case of the histogram above, I might be interested in seeing the effect of changing the interest rate, volatility, or the time to expiry. Sliders are preferable for quickly exploring the effect of changing values over a range. For that, you can use [ipywidgets](https://github.com/ipython/ipywidgets). The README includes a tutorial that is also hosted [here](http://nbviewer.jupyter.org/github/quantopian/ipython/blob/master/examples/Interactive%20Widgets/Index.ipynb).\n",
    "\n",
    "GitHub has done us the favor of rendering our notebooks. However, you cannot interact with the rendered notebook. There are some paid services that will host your notebook if you want others to explore it interactively. "
   ]
  },
  {
   "cell_type": "code",
   "execution_count": 62,
   "metadata": {
    "collapsed": false
   },
   "outputs": [
    {
     "data": {
      "image/png": "[encoded data removed]",
      "text/plain": [
       "<matplotlib.figure.Figure at 0x116c38fd0>"
      ]
     },
     "metadata": {},
     "output_type": "display_data"
    }
   ],
   "source": [
    "from ipywidgets import interact\n",
    "def plot_histogram(r, sigma, t):\n",
    "    n = 1000000\n",
    "    prices = bsm(100,r,sigma,t,np.random.standard_normal(n))\n",
    "    plt.figure(figsize=(7,4))\n",
    "    plt.hist(prices,label=['prices'],bins = 100, color = 'blue')\n",
    "    plt.grid(True)\n",
    "    plt.xlabel('price')\n",
    "    plt.ylabel('frequency')\n",
    "    plt.title('Histogram of simulated BSM prices')\n",
    "\n",
    "interact(plot_histogram,  r=(0.0, 0.2, 0.01), sigma=(0.01, 1.0, 0.01), t=(0.01, 2, 0.01));"
   ]
  },
  {
   "cell_type": "markdown",
   "metadata": {},
   "source": [
    "## estimating expected stock price at expiry\n",
    "I want to estimate the expected stock price at expiry, so I will compute the average of the sampled prices."
   ]
  },
  {
   "cell_type": "code",
   "execution_count": 63,
   "metadata": {
    "collapsed": false
   },
   "outputs": [
    {
     "name": "stdout",
     "output_type": "stream",
     "text": [
      "100.769722064\n"
     ]
    }
   ],
   "source": [
    "n = 1000000\n",
    "print sum(bsm(100, 0.03, 0.4, 3.0/12, np.random.standard_normal(n)))/n\n"
   ]
  },
  {
   "cell_type": "markdown",
   "metadata": {},
   "source": [
    "## estimating option price\n",
    "\n",
    "The point of generating a distribution of stocks prices was to generate a distribution of the option value at maturity. The present value of the average option value at maturity is an estimate of what the option is worth today. "
   ]
  },
  {
   "cell_type": "code",
   "execution_count": 64,
   "metadata": {
    "collapsed": false
   },
   "outputs": [
    {
     "name": "stdout",
     "output_type": "stream",
     "text": [
      "6.18682935132\n"
     ]
    }
   ],
   "source": [
    "n = 100000\n",
    "r = 0.03\n",
    "t = 3.0/12\n",
    "stockPriceAtExpiry = bsm(100, r, 0.4, t, np.random.standard_normal(n))\n",
    "strikePrice = 105\n",
    "optionValuesAtExpiry = np.maximum(stockPriceAtExpiry - strikePrice,0)\n",
    "averageForwardOptionValue = sum(optionValuesAtExpiry)/n\n",
    "presentOptionValue = averageForwardOptionValue * math.exp(-r*t)\n",
    "print presentOptionValue"
   ]
  },
  {
   "cell_type": "markdown",
   "metadata": {},
   "source": [
    "## closed-form BSM\n",
    "\n",
    "How does this compare with the closed-form [Black-Scholes-Merton](https://en.wikipedia.org/wiki/Black–Scholes_model) model? \n",
    "\n",
    "$\\begin{align}\n",
    "  C(S, t) &= \\Phi(d_1)S - \\Phi(d_2) Ke^{-rt} \\\\\n",
    "     d_1 &= \\frac{1}{\\sigma\\sqrt{t}}\\left[\\ln\\left(\\frac{S}{K}\\right) + \\left(r + \\frac{\\sigma^2}{2}\\right)t\\right] \\\\\n",
    "     d_2 &= d_1 - \\sigma\\sqrt{t} \\\\\n",
    "\\end{align}$\n",
    "\n",
    "where $\\Phi$ is the standard normal cumulative distribution function. We use [norm](http://docs.scipy.org/doc/scipy/reference/generated/scipy.stats.norm.html) from scipy.stats."
   ]
  },
  {
   "cell_type": "code",
   "execution_count": null,
   "metadata": {
    "collapsed": false
   },
   "outputs": [],
   "source": [
    "\n"
   ]
  },
  {
   "cell_type": "code",
   "execution_count": 65,
   "metadata": {
    "collapsed": false
   },
   "outputs": [
    {
     "name": "stdout",
     "output_type": "stream",
     "text": [
      "6.19785003662\n"
     ]
    }
   ],
   "source": [
    "from scipy.stats import norm\n",
    "def call(s, r, sigma, t, k):\n",
    "    d1 = 1/(sigma*t**(0.5))*(np.log(float(s)/k) + (r+sigma**2/2)*t)\n",
    "    d2 = d1-sigma*t**(0.5)\n",
    "    return norm.cdf(d1)*s-norm.cdf(d2)*k*np.exp(-r*t)\n",
    "    \n",
    "\n",
    "print call(100, 0.03, 0.4, 3.0/12, 105)"
   ]
  },
  {
   "cell_type": "code",
   "execution_count": null,
   "metadata": {
    "collapsed": true
   },
   "outputs": [],
   "source": []
  }
 ],
 "metadata": {
  "kernelspec": {
   "display_name": "Python [Root]",
   "language": "python",
   "name": "Python [Root]"
  },
  "language_info": {
   "codemirror_mode": {
    "name": "ipython",
    "version": 2
   },
   "file_extension": ".py",
   "mimetype": "text/x-python",
   "name": "python",
   "nbconvert_exporter": "python",
   "pygments_lexer": "ipython2",
   "version": "2.7.12"
  }
 },
 "nbformat": 4,
 "nbformat_minor": 0
}
